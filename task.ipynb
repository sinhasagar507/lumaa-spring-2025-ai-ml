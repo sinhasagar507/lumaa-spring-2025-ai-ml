{
  "cells": [
    {
      "cell_type": "markdown",
      "metadata": {
        "id": "QdBttsCGC4AA"
      },
      "source": [
        "---\n",
        "# **Table of Contents**\n",
        "---\n",
        "\n",
        "1. [**Problem Statement**](#Section1)<br>\n",
        "2. [**Importing Libraries**](#Section2)<br>\n",
        "3. [**Data Acquisition & Description**](#Section3)<br>\n",
        "4. [**Data Pre-Processing**](#Section4)<br>\n",
        "5. [**Feature Engineering**](#Section5)<br>\n",
        "6. [**Recommendation**](#Section6)\n",
        "7. [**Salary Expectations**](#Section7)\n",
        "---"
      ]
    },
    {
      "cell_type": "markdown",
      "metadata": {
        "id": "RMCnvNd4wTF5"
      },
      "source": [
        "---\n",
        "<a name = Section1></a>\n",
        "# ***1. Problem Statement***\n",
        "---\n",
        "Build a **content-based recommendation system** that, given a **short text description** of a user’s preferences, suggests **similar items** (e.g., movies) from a small dataset. This challenge should take about **3 hours**, so keep your solution **simple** yet **functional**.\n",
        "\n",
        "### Example Use Case\n",
        "\n",
        "- The user inputs:  \n",
        "  \"I love thrilling action movies set in space, with a comedic twist.\"\n",
        "- Your system processes this description (query) and compares it to a dataset of items (e.g., movies with their plot summaries or keywords).  \n",
        "- You then return the **top 3–5 “closest” matches** to the user.\n",
        "\n",
        "\n",
        "<center><img width=50% src=\"https://shorturl.at/5xY64\"></center>\n"
      ]
    },
    {
      "cell_type": "markdown",
      "metadata": {
        "id": "cIs6DioUQLk1"
      },
      "source": [
        "---\n",
        "<a name = Section2></a>\n",
        "# ***2. Importing Libraries***\n",
        "---"
      ]
    },
    {
      "cell_type": "code",
      "execution_count": 1,
      "metadata": {
        "id": "YeoY_0DqjuNU"
      },
      "outputs": [],
      "source": [
        "# Import the necessary libraries\n",
        "import pandas as pd\n",
        "import numpy as np\n",
        "import re\n",
        "import string\n",
        "import warnings\n",
        "warnings.filterwarnings('ignore')\n",
        "from sklearn.metrics.pairwise import cosine_similarity\n",
        "from sklearn.feature_extraction.text import TfidfVectorizer\n",
        "from nltk.stem import PorterStemmer\n",
        "import nltk\n",
        "from nltk.corpus import stopwords"
      ]
    },
    {
      "cell_type": "markdown",
      "metadata": {
        "id": "ThP3XKJQyaFp"
      },
      "source": [
        "---\n",
        "<a name = Section3></a>\n",
        "# ***3. Data Acquisition & Description***\n",
        "---"
      ]
    },
    {
      "cell_type": "markdown",
      "metadata": {
        "id": "GJCNjBQbSCor"
      },
      "source": [
        "- The IMDb Top 1000 Movies dataset\n",
        "\n",
        "|Id|Feature|Description|\n",
        "|:--|:--|:--|\n",
        "|01| Poster_Link            | Link to the movie poster |\n",
        "|02| Series_Title           | Link to the movie title |\n",
        "|03| Released_Year          | Year in which the movie was released |\n",
        "|04| Certificate            | Certification rating assigned by the movie board |\n",
        "|05| Runtime                | Movie Runtime |\n",
        "|06| IMDB_Rating            | IMDB Rating given to the movie |\n",
        "|07| Overview               | A brief description about the movie |\n",
        "|08| Meta_Score             | Meta Score provided by the user |\n",
        "|09| Director               | Movie director |\n",
        "|10| Star1                  | Movie Actor 1  |\n",
        "|11| Star2                  | Movie Star 2   |\n",
        "|12| Star3                  | Movie Star 3   |\n",
        "|13| Star4                  | Movie Star 4   |\n",
        "|14| No of Votes            | Number of votes received by the user |\n",
        "|15| Gross                  | Number of likes received by user  through web.|"
      ]
    },
    {
      "cell_type": "code",
      "execution_count": 2,
      "metadata": {
        "colab": {
          "base_uri": "https://localhost:8080/",
          "height": 678
        },
        "id": "f18riJsqyfP1",
        "outputId": "d2e449e6-f4ef-4f2a-8d87-35d30a39e41d"
      },
      "outputs": [
        {
          "data": {
            "application/vnd.microsoft.datawrangler.viewer.v0+json": {
              "columns": [
                {
                  "name": "index",
                  "rawType": "int64",
                  "type": "integer"
                },
                {
                  "name": "Poster_Link",
                  "rawType": "object",
                  "type": "string"
                },
                {
                  "name": "Series_Title",
                  "rawType": "object",
                  "type": "string"
                },
                {
                  "name": "Released_Year",
                  "rawType": "object",
                  "type": "string"
                },
                {
                  "name": "Certificate",
                  "rawType": "object",
                  "type": "string"
                },
                {
                  "name": "Runtime",
                  "rawType": "object",
                  "type": "string"
                },
                {
                  "name": "Genre",
                  "rawType": "object",
                  "type": "string"
                },
                {
                  "name": "IMDB_Rating",
                  "rawType": "float64",
                  "type": "float"
                },
                {
                  "name": "Overview",
                  "rawType": "object",
                  "type": "string"
                },
                {
                  "name": "Meta_score",
                  "rawType": "float64",
                  "type": "float"
                },
                {
                  "name": "Director",
                  "rawType": "object",
                  "type": "string"
                },
                {
                  "name": "Star1",
                  "rawType": "object",
                  "type": "string"
                },
                {
                  "name": "Star2",
                  "rawType": "object",
                  "type": "string"
                },
                {
                  "name": "Star3",
                  "rawType": "object",
                  "type": "string"
                },
                {
                  "name": "Star4",
                  "rawType": "object",
                  "type": "string"
                },
                {
                  "name": "No_of_Votes",
                  "rawType": "int64",
                  "type": "integer"
                },
                {
                  "name": "Gross",
                  "rawType": "object",
                  "type": "string"
                }
              ],
              "conversionMethod": "pd.DataFrame",
              "ref": "0b27a798-fac4-4532-bb37-f933084be73d",
              "rows": [
                [
                  "0",
                  "https://m.media-amazon.com/images/M/MV5BMDFkYTc0MGEtZmNhMC00ZDIzLWFmNTEtODM1ZmRlYWMwMWFmXkEyXkFqcGdeQXVyMTMxODk2OTU@._V1_UX67_CR0,0,67,98_AL_.jpg",
                  "The Shawshank Redemption",
                  "1994",
                  "A",
                  "142 min",
                  "Drama",
                  "9.3",
                  "Two imprisoned men bond over a number of years, finding solace and eventual redemption through acts of common decency.",
                  "80.0",
                  "Frank Darabont",
                  "Tim Robbins",
                  "Morgan Freeman",
                  "Bob Gunton",
                  "William Sadler",
                  "2343110",
                  "28,341,469"
                ],
                [
                  "1",
                  "https://m.media-amazon.com/images/M/MV5BM2MyNjYxNmUtYTAwNi00MTYxLWJmNWYtYzZlODY3ZTk3OTFlXkEyXkFqcGdeQXVyNzkwMjQ5NzM@._V1_UY98_CR1,0,67,98_AL_.jpg",
                  "The Godfather",
                  "1972",
                  "A",
                  "175 min",
                  "Crime, Drama",
                  "9.2",
                  "An organized crime dynasty's aging patriarch transfers control of his clandestine empire to his reluctant son.",
                  "100.0",
                  "Francis Ford Coppola",
                  "Marlon Brando",
                  "Al Pacino",
                  "James Caan",
                  "Diane Keaton",
                  "1620367",
                  "134,966,411"
                ],
                [
                  "2",
                  "https://m.media-amazon.com/images/M/MV5BMTMxNTMwODM0NF5BMl5BanBnXkFtZTcwODAyMTk2Mw@@._V1_UX67_CR0,0,67,98_AL_.jpg",
                  "The Dark Knight",
                  "2008",
                  "UA",
                  "152 min",
                  "Action, Crime, Drama",
                  "9.0",
                  "When the menace known as the Joker wreaks havoc and chaos on the people of Gotham, Batman must accept one of the greatest psychological and physical tests of his ability to fight injustice.",
                  "84.0",
                  "Christopher Nolan",
                  "Christian Bale",
                  "Heath Ledger",
                  "Aaron Eckhart",
                  "Michael Caine",
                  "2303232",
                  "534,858,444"
                ],
                [
                  "3",
                  "https://m.media-amazon.com/images/M/MV5BMWMwMGQzZTItY2JlNC00OWZiLWIyMDctNDk2ZDQ2YjRjMWQ0XkEyXkFqcGdeQXVyNzkwMjQ5NzM@._V1_UY98_CR1,0,67,98_AL_.jpg",
                  "The Godfather: Part II",
                  "1974",
                  "A",
                  "202 min",
                  "Crime, Drama",
                  "9.0",
                  "The early life and career of Vito Corleone in 1920s New York City is portrayed, while his son, Michael, expands and tightens his grip on the family crime syndicate.",
                  "90.0",
                  "Francis Ford Coppola",
                  "Al Pacino",
                  "Robert De Niro",
                  "Robert Duvall",
                  "Diane Keaton",
                  "1129952",
                  "57,300,000"
                ],
                [
                  "4",
                  "https://m.media-amazon.com/images/M/MV5BMWU4N2FjNzYtNTVkNC00NzQ0LTg0MjAtYTJlMjFhNGUxZDFmXkEyXkFqcGdeQXVyNjc1NTYyMjg@._V1_UX67_CR0,0,67,98_AL_.jpg",
                  "12 Angry Men",
                  "1957",
                  "U",
                  "96 min",
                  "Crime, Drama",
                  "9.0",
                  "A jury holdout attempts to prevent a miscarriage of justice by forcing his colleagues to reconsider the evidence.",
                  "96.0",
                  "Sidney Lumet",
                  "Henry Fonda",
                  "Lee J. Cobb",
                  "Martin Balsam",
                  "John Fiedler",
                  "689845",
                  "4,360,000"
                ]
              ],
              "shape": {
                "columns": 16,
                "rows": 5
              }
            },
            "text/html": [
              "<div>\n",
              "<style scoped>\n",
              "    .dataframe tbody tr th:only-of-type {\n",
              "        vertical-align: middle;\n",
              "    }\n",
              "\n",
              "    .dataframe tbody tr th {\n",
              "        vertical-align: top;\n",
              "    }\n",
              "\n",
              "    .dataframe thead th {\n",
              "        text-align: right;\n",
              "    }\n",
              "</style>\n",
              "<table border=\"1\" class=\"dataframe\">\n",
              "  <thead>\n",
              "    <tr style=\"text-align: right;\">\n",
              "      <th></th>\n",
              "      <th>Poster_Link</th>\n",
              "      <th>Series_Title</th>\n",
              "      <th>Released_Year</th>\n",
              "      <th>Certificate</th>\n",
              "      <th>Runtime</th>\n",
              "      <th>Genre</th>\n",
              "      <th>IMDB_Rating</th>\n",
              "      <th>Overview</th>\n",
              "      <th>Meta_score</th>\n",
              "      <th>Director</th>\n",
              "      <th>Star1</th>\n",
              "      <th>Star2</th>\n",
              "      <th>Star3</th>\n",
              "      <th>Star4</th>\n",
              "      <th>No_of_Votes</th>\n",
              "      <th>Gross</th>\n",
              "    </tr>\n",
              "  </thead>\n",
              "  <tbody>\n",
              "    <tr>\n",
              "      <th>0</th>\n",
              "      <td>https://m.media-amazon.com/images/M/MV5BMDFkYT...</td>\n",
              "      <td>The Shawshank Redemption</td>\n",
              "      <td>1994</td>\n",
              "      <td>A</td>\n",
              "      <td>142 min</td>\n",
              "      <td>Drama</td>\n",
              "      <td>9.3</td>\n",
              "      <td>Two imprisoned men bond over a number of years...</td>\n",
              "      <td>80.0</td>\n",
              "      <td>Frank Darabont</td>\n",
              "      <td>Tim Robbins</td>\n",
              "      <td>Morgan Freeman</td>\n",
              "      <td>Bob Gunton</td>\n",
              "      <td>William Sadler</td>\n",
              "      <td>2343110</td>\n",
              "      <td>28,341,469</td>\n",
              "    </tr>\n",
              "    <tr>\n",
              "      <th>1</th>\n",
              "      <td>https://m.media-amazon.com/images/M/MV5BM2MyNj...</td>\n",
              "      <td>The Godfather</td>\n",
              "      <td>1972</td>\n",
              "      <td>A</td>\n",
              "      <td>175 min</td>\n",
              "      <td>Crime, Drama</td>\n",
              "      <td>9.2</td>\n",
              "      <td>An organized crime dynasty's aging patriarch t...</td>\n",
              "      <td>100.0</td>\n",
              "      <td>Francis Ford Coppola</td>\n",
              "      <td>Marlon Brando</td>\n",
              "      <td>Al Pacino</td>\n",
              "      <td>James Caan</td>\n",
              "      <td>Diane Keaton</td>\n",
              "      <td>1620367</td>\n",
              "      <td>134,966,411</td>\n",
              "    </tr>\n",
              "    <tr>\n",
              "      <th>2</th>\n",
              "      <td>https://m.media-amazon.com/images/M/MV5BMTMxNT...</td>\n",
              "      <td>The Dark Knight</td>\n",
              "      <td>2008</td>\n",
              "      <td>UA</td>\n",
              "      <td>152 min</td>\n",
              "      <td>Action, Crime, Drama</td>\n",
              "      <td>9.0</td>\n",
              "      <td>When the menace known as the Joker wreaks havo...</td>\n",
              "      <td>84.0</td>\n",
              "      <td>Christopher Nolan</td>\n",
              "      <td>Christian Bale</td>\n",
              "      <td>Heath Ledger</td>\n",
              "      <td>Aaron Eckhart</td>\n",
              "      <td>Michael Caine</td>\n",
              "      <td>2303232</td>\n",
              "      <td>534,858,444</td>\n",
              "    </tr>\n",
              "    <tr>\n",
              "      <th>3</th>\n",
              "      <td>https://m.media-amazon.com/images/M/MV5BMWMwMG...</td>\n",
              "      <td>The Godfather: Part II</td>\n",
              "      <td>1974</td>\n",
              "      <td>A</td>\n",
              "      <td>202 min</td>\n",
              "      <td>Crime, Drama</td>\n",
              "      <td>9.0</td>\n",
              "      <td>The early life and career of Vito Corleone in ...</td>\n",
              "      <td>90.0</td>\n",
              "      <td>Francis Ford Coppola</td>\n",
              "      <td>Al Pacino</td>\n",
              "      <td>Robert De Niro</td>\n",
              "      <td>Robert Duvall</td>\n",
              "      <td>Diane Keaton</td>\n",
              "      <td>1129952</td>\n",
              "      <td>57,300,000</td>\n",
              "    </tr>\n",
              "    <tr>\n",
              "      <th>4</th>\n",
              "      <td>https://m.media-amazon.com/images/M/MV5BMWU4N2...</td>\n",
              "      <td>12 Angry Men</td>\n",
              "      <td>1957</td>\n",
              "      <td>U</td>\n",
              "      <td>96 min</td>\n",
              "      <td>Crime, Drama</td>\n",
              "      <td>9.0</td>\n",
              "      <td>A jury holdout attempts to prevent a miscarria...</td>\n",
              "      <td>96.0</td>\n",
              "      <td>Sidney Lumet</td>\n",
              "      <td>Henry Fonda</td>\n",
              "      <td>Lee J. Cobb</td>\n",
              "      <td>Martin Balsam</td>\n",
              "      <td>John Fiedler</td>\n",
              "      <td>689845</td>\n",
              "      <td>4,360,000</td>\n",
              "    </tr>\n",
              "  </tbody>\n",
              "</table>\n",
              "</div>"
            ],
            "text/plain": [
              "                                         Poster_Link  \\\n",
              "0  https://m.media-amazon.com/images/M/MV5BMDFkYT...   \n",
              "1  https://m.media-amazon.com/images/M/MV5BM2MyNj...   \n",
              "2  https://m.media-amazon.com/images/M/MV5BMTMxNT...   \n",
              "3  https://m.media-amazon.com/images/M/MV5BMWMwMG...   \n",
              "4  https://m.media-amazon.com/images/M/MV5BMWU4N2...   \n",
              "\n",
              "               Series_Title Released_Year Certificate  Runtime  \\\n",
              "0  The Shawshank Redemption          1994           A  142 min   \n",
              "1             The Godfather          1972           A  175 min   \n",
              "2           The Dark Knight          2008          UA  152 min   \n",
              "3    The Godfather: Part II          1974           A  202 min   \n",
              "4              12 Angry Men          1957           U   96 min   \n",
              "\n",
              "                  Genre  IMDB_Rating  \\\n",
              "0                 Drama          9.3   \n",
              "1          Crime, Drama          9.2   \n",
              "2  Action, Crime, Drama          9.0   \n",
              "3          Crime, Drama          9.0   \n",
              "4          Crime, Drama          9.0   \n",
              "\n",
              "                                            Overview  Meta_score  \\\n",
              "0  Two imprisoned men bond over a number of years...        80.0   \n",
              "1  An organized crime dynasty's aging patriarch t...       100.0   \n",
              "2  When the menace known as the Joker wreaks havo...        84.0   \n",
              "3  The early life and career of Vito Corleone in ...        90.0   \n",
              "4  A jury holdout attempts to prevent a miscarria...        96.0   \n",
              "\n",
              "               Director           Star1           Star2          Star3  \\\n",
              "0        Frank Darabont     Tim Robbins  Morgan Freeman     Bob Gunton   \n",
              "1  Francis Ford Coppola   Marlon Brando       Al Pacino     James Caan   \n",
              "2     Christopher Nolan  Christian Bale    Heath Ledger  Aaron Eckhart   \n",
              "3  Francis Ford Coppola       Al Pacino  Robert De Niro  Robert Duvall   \n",
              "4          Sidney Lumet     Henry Fonda     Lee J. Cobb  Martin Balsam   \n",
              "\n",
              "            Star4  No_of_Votes        Gross  \n",
              "0  William Sadler      2343110   28,341,469  \n",
              "1    Diane Keaton      1620367  134,966,411  \n",
              "2   Michael Caine      2303232  534,858,444  \n",
              "3    Diane Keaton      1129952   57,300,000  \n",
              "4    John Fiedler       689845    4,360,000  "
            ]
          },
          "execution_count": 2,
          "metadata": {},
          "output_type": "execute_result"
        }
      ],
      "source": [
        "# Loading the data\n",
        "df = pd.read_csv('imdb_top_1000.csv') # replace with your data path\n",
        "df.head()"
      ]
    },
    {
      "cell_type": "code",
      "execution_count": 3,
      "metadata": {
        "colab": {
          "base_uri": "https://localhost:8080/"
        },
        "id": "1UE-Cn2Rbdjd",
        "outputId": "293ffe4d-f2df-4832-e5b0-addd14adfdf0"
      },
      "outputs": [
        {
          "name": "stdout",
          "output_type": "stream",
          "text": [
            "<class 'pandas.core.frame.DataFrame'>\n",
            "RangeIndex: 1000 entries, 0 to 999\n",
            "Data columns (total 16 columns):\n",
            " #   Column         Non-Null Count  Dtype  \n",
            "---  ------         --------------  -----  \n",
            " 0   Poster_Link    1000 non-null   object \n",
            " 1   Series_Title   1000 non-null   object \n",
            " 2   Released_Year  1000 non-null   object \n",
            " 3   Certificate    899 non-null    object \n",
            " 4   Runtime        1000 non-null   object \n",
            " 5   Genre          1000 non-null   object \n",
            " 6   IMDB_Rating    1000 non-null   float64\n",
            " 7   Overview       1000 non-null   object \n",
            " 8   Meta_score     843 non-null    float64\n",
            " 9   Director       1000 non-null   object \n",
            " 10  Star1          1000 non-null   object \n",
            " 11  Star2          1000 non-null   object \n",
            " 12  Star3          1000 non-null   object \n",
            " 13  Star4          1000 non-null   object \n",
            " 14  No_of_Votes    1000 non-null   int64  \n",
            " 15  Gross          831 non-null    object \n",
            "dtypes: float64(2), int64(1), object(13)\n",
            "memory usage: 125.1+ KB\n"
          ]
        }
      ],
      "source": [
        "# The dataset link\n",
        "df.info()"
      ]
    },
    {
      "cell_type": "markdown",
      "metadata": {
        "id": "Jttf-fdrb37k"
      },
      "source": [
        "- Most of the data consists of text-based columns"
      ]
    },
    {
      "cell_type": "code",
      "execution_count": 4,
      "metadata": {
        "colab": {
          "base_uri": "https://localhost:8080/",
          "height": 300
        },
        "id": "MaOl1r3tbmJA",
        "outputId": "3c4fa7b5-ecf4-40f6-f941-7dd500aba38f"
      },
      "outputs": [
        {
          "data": {
            "application/vnd.microsoft.datawrangler.viewer.v0+json": {
              "columns": [
                {
                  "name": "index",
                  "rawType": "object",
                  "type": "string"
                },
                {
                  "name": "IMDB_Rating",
                  "rawType": "float64",
                  "type": "float"
                },
                {
                  "name": "Meta_score",
                  "rawType": "float64",
                  "type": "float"
                },
                {
                  "name": "No_of_Votes",
                  "rawType": "float64",
                  "type": "float"
                }
              ],
              "conversionMethod": "pd.DataFrame",
              "ref": "3bf79b92-92d4-4271-b2db-79fc9b687331",
              "rows": [
                [
                  "count",
                  "1000.0",
                  "843.0",
                  "1000.0"
                ],
                [
                  "mean",
                  "7.949299999999999",
                  "77.97153024911032",
                  "273692.911"
                ],
                [
                  "std",
                  "0.2754912074920095",
                  "12.376099328602027",
                  "327372.7039341249"
                ],
                [
                  "min",
                  "7.6",
                  "28.0",
                  "25088.0"
                ],
                [
                  "25%",
                  "7.7",
                  "70.0",
                  "55526.25"
                ],
                [
                  "50%",
                  "7.9",
                  "79.0",
                  "138548.5"
                ],
                [
                  "75%",
                  "8.1",
                  "87.0",
                  "374161.25"
                ],
                [
                  "max",
                  "9.3",
                  "100.0",
                  "2343110.0"
                ]
              ],
              "shape": {
                "columns": 3,
                "rows": 8
              }
            },
            "text/html": [
              "<div>\n",
              "<style scoped>\n",
              "    .dataframe tbody tr th:only-of-type {\n",
              "        vertical-align: middle;\n",
              "    }\n",
              "\n",
              "    .dataframe tbody tr th {\n",
              "        vertical-align: top;\n",
              "    }\n",
              "\n",
              "    .dataframe thead th {\n",
              "        text-align: right;\n",
              "    }\n",
              "</style>\n",
              "<table border=\"1\" class=\"dataframe\">\n",
              "  <thead>\n",
              "    <tr style=\"text-align: right;\">\n",
              "      <th></th>\n",
              "      <th>IMDB_Rating</th>\n",
              "      <th>Meta_score</th>\n",
              "      <th>No_of_Votes</th>\n",
              "    </tr>\n",
              "  </thead>\n",
              "  <tbody>\n",
              "    <tr>\n",
              "      <th>count</th>\n",
              "      <td>1000.000000</td>\n",
              "      <td>843.000000</td>\n",
              "      <td>1.000000e+03</td>\n",
              "    </tr>\n",
              "    <tr>\n",
              "      <th>mean</th>\n",
              "      <td>7.949300</td>\n",
              "      <td>77.971530</td>\n",
              "      <td>2.736929e+05</td>\n",
              "    </tr>\n",
              "    <tr>\n",
              "      <th>std</th>\n",
              "      <td>0.275491</td>\n",
              "      <td>12.376099</td>\n",
              "      <td>3.273727e+05</td>\n",
              "    </tr>\n",
              "    <tr>\n",
              "      <th>min</th>\n",
              "      <td>7.600000</td>\n",
              "      <td>28.000000</td>\n",
              "      <td>2.508800e+04</td>\n",
              "    </tr>\n",
              "    <tr>\n",
              "      <th>25%</th>\n",
              "      <td>7.700000</td>\n",
              "      <td>70.000000</td>\n",
              "      <td>5.552625e+04</td>\n",
              "    </tr>\n",
              "    <tr>\n",
              "      <th>50%</th>\n",
              "      <td>7.900000</td>\n",
              "      <td>79.000000</td>\n",
              "      <td>1.385485e+05</td>\n",
              "    </tr>\n",
              "    <tr>\n",
              "      <th>75%</th>\n",
              "      <td>8.100000</td>\n",
              "      <td>87.000000</td>\n",
              "      <td>3.741612e+05</td>\n",
              "    </tr>\n",
              "    <tr>\n",
              "      <th>max</th>\n",
              "      <td>9.300000</td>\n",
              "      <td>100.000000</td>\n",
              "      <td>2.343110e+06</td>\n",
              "    </tr>\n",
              "  </tbody>\n",
              "</table>\n",
              "</div>"
            ],
            "text/plain": [
              "       IMDB_Rating  Meta_score   No_of_Votes\n",
              "count  1000.000000  843.000000  1.000000e+03\n",
              "mean      7.949300   77.971530  2.736929e+05\n",
              "std       0.275491   12.376099  3.273727e+05\n",
              "min       7.600000   28.000000  2.508800e+04\n",
              "25%       7.700000   70.000000  5.552625e+04\n",
              "50%       7.900000   79.000000  1.385485e+05\n",
              "75%       8.100000   87.000000  3.741612e+05\n",
              "max       9.300000  100.000000  2.343110e+06"
            ]
          },
          "execution_count": 4,
          "metadata": {},
          "output_type": "execute_result"
        }
      ],
      "source": [
        "# Describe the dataset\n",
        "df.describe()"
      ]
    },
    {
      "cell_type": "markdown",
      "metadata": {
        "id": "aKFpPKLDdj9v"
      },
      "source": [
        "- The 3 main numerical columns within the dataset include 'IMDB_Rating', 'Meta_Score' and 'No_of_Votes'"
      ]
    },
    {
      "cell_type": "markdown",
      "metadata": {
        "id": "5v4unaj8d03t"
      },
      "source": [
        "- Going ahead, for our use-case, we will only be using 'Series_Title', 'Genre', 'Overview' AND 'Director' columns for our use-case, since we are focussing ON a simple text-based recommendation model"
      ]
    },
    {
      "cell_type": "code",
      "execution_count": 5,
      "metadata": {
        "id": "0zhXGLG47yPD"
      },
      "outputs": [],
      "source": [
        "# Select only the required columns for the data\n",
        "df_process = df[['Series_Title', 'Genre', 'Overview', 'Director']]"
      ]
    },
    {
      "cell_type": "code",
      "execution_count": 6,
      "metadata": {
        "colab": {
          "base_uri": "https://localhost:8080/",
          "height": 35
        },
        "id": "BuxB8iF9BBW3",
        "outputId": "4113dbde-4456-4b84-f388-8d6670f2fa4d"
      },
      "outputs": [
        {
          "data": {
            "text/plain": [
              "'Two imprisoned men bond over a number of years, finding solace and eventual redemption through acts of common decency.'"
            ]
          },
          "execution_count": 6,
          "metadata": {},
          "output_type": "execute_result"
        }
      ],
      "source": [
        "df_process['Overview'][0]"
      ]
    },
    {
      "cell_type": "code",
      "execution_count": 7,
      "metadata": {
        "colab": {
          "base_uri": "https://localhost:8080/",
          "height": 175
        },
        "id": "U-Go5W-UBCtT",
        "outputId": "916f6689-479e-44ac-9729-8fa36541dcc1"
      },
      "outputs": [
        {
          "data": {
            "application/vnd.microsoft.datawrangler.viewer.v0+json": {
              "columns": [
                {
                  "name": "index",
                  "rawType": "object",
                  "type": "string"
                },
                {
                  "name": "Series_Title",
                  "rawType": "object",
                  "type": "unknown"
                },
                {
                  "name": "Genre",
                  "rawType": "object",
                  "type": "unknown"
                },
                {
                  "name": "Overview",
                  "rawType": "object",
                  "type": "unknown"
                },
                {
                  "name": "Director",
                  "rawType": "object",
                  "type": "unknown"
                }
              ],
              "conversionMethod": "pd.DataFrame",
              "ref": "6577e950-16b9-4c49-a1b1-90e3d7170c7f",
              "rows": [
                [
                  "count",
                  "1000",
                  "1000",
                  "1000",
                  "1000"
                ],
                [
                  "unique",
                  "999",
                  "202",
                  "1000",
                  "548"
                ],
                [
                  "top",
                  "Drishyam",
                  "Drama",
                  "Two imprisoned men bond over a number of years, finding solace and eventual redemption through acts of common decency.",
                  "Alfred Hitchcock"
                ],
                [
                  "freq",
                  "2",
                  "85",
                  "1",
                  "14"
                ]
              ],
              "shape": {
                "columns": 4,
                "rows": 4
              }
            },
            "text/html": [
              "<div>\n",
              "<style scoped>\n",
              "    .dataframe tbody tr th:only-of-type {\n",
              "        vertical-align: middle;\n",
              "    }\n",
              "\n",
              "    .dataframe tbody tr th {\n",
              "        vertical-align: top;\n",
              "    }\n",
              "\n",
              "    .dataframe thead th {\n",
              "        text-align: right;\n",
              "    }\n",
              "</style>\n",
              "<table border=\"1\" class=\"dataframe\">\n",
              "  <thead>\n",
              "    <tr style=\"text-align: right;\">\n",
              "      <th></th>\n",
              "      <th>Series_Title</th>\n",
              "      <th>Genre</th>\n",
              "      <th>Overview</th>\n",
              "      <th>Director</th>\n",
              "    </tr>\n",
              "  </thead>\n",
              "  <tbody>\n",
              "    <tr>\n",
              "      <th>count</th>\n",
              "      <td>1000</td>\n",
              "      <td>1000</td>\n",
              "      <td>1000</td>\n",
              "      <td>1000</td>\n",
              "    </tr>\n",
              "    <tr>\n",
              "      <th>unique</th>\n",
              "      <td>999</td>\n",
              "      <td>202</td>\n",
              "      <td>1000</td>\n",
              "      <td>548</td>\n",
              "    </tr>\n",
              "    <tr>\n",
              "      <th>top</th>\n",
              "      <td>Drishyam</td>\n",
              "      <td>Drama</td>\n",
              "      <td>Two imprisoned men bond over a number of years...</td>\n",
              "      <td>Alfred Hitchcock</td>\n",
              "    </tr>\n",
              "    <tr>\n",
              "      <th>freq</th>\n",
              "      <td>2</td>\n",
              "      <td>85</td>\n",
              "      <td>1</td>\n",
              "      <td>14</td>\n",
              "    </tr>\n",
              "  </tbody>\n",
              "</table>\n",
              "</div>"
            ],
            "text/plain": [
              "       Series_Title  Genre                                           Overview  \\\n",
              "count          1000   1000                                               1000   \n",
              "unique          999    202                                               1000   \n",
              "top        Drishyam  Drama  Two imprisoned men bond over a number of years...   \n",
              "freq              2     85                                                  1   \n",
              "\n",
              "                Director  \n",
              "count               1000  \n",
              "unique               548  \n",
              "top     Alfred Hitchcock  \n",
              "freq                  14  "
            ]
          },
          "execution_count": 7,
          "metadata": {},
          "output_type": "execute_result"
        }
      ],
      "source": [
        "df_process.describe()"
      ]
    },
    {
      "cell_type": "code",
      "execution_count": 8,
      "metadata": {
        "colab": {
          "base_uri": "https://localhost:8080/",
          "height": 210
        },
        "id": "vasEbe_4CiWS",
        "outputId": "6c7dd5cd-9440-41c1-f79a-bd9dfc32d661"
      },
      "outputs": [
        {
          "data": {
            "text/plain": [
              "Series_Title    0\n",
              "Genre           0\n",
              "Overview        0\n",
              "Director        0\n",
              "dtype: int64"
            ]
          },
          "execution_count": 8,
          "metadata": {},
          "output_type": "execute_result"
        }
      ],
      "source": [
        "df_process.isnull().sum()"
      ]
    },
    {
      "cell_type": "markdown",
      "metadata": {
        "id": "Y4qAj1-pe6kV"
      },
      "source": [
        "- Going ahead, we will process only these columns for our data"
      ]
    },
    {
      "cell_type": "markdown",
      "metadata": {
        "id": "NbBCcDy7emJn"
      },
      "source": [
        "---\n",
        "<a name = Section4></a>\n",
        "# **4. Data Preprocessing**\n",
        "---"
      ]
    },
    {
      "cell_type": "code",
      "execution_count": 9,
      "metadata": {
        "colab": {
          "base_uri": "https://localhost:8080/"
        },
        "id": "vy2zRcbkff1M",
        "outputId": "e9885d4b-3627-4c8b-95a3-0cd2972643d7"
      },
      "outputs": [
        {
          "name": "stderr",
          "output_type": "stream",
          "text": [
            "[nltk_data] Downloading package punkt_tab to\n",
            "[nltk_data]     /Users/saggysimmba/nltk_data...\n",
            "[nltk_data]   Package punkt_tab is already up-to-date!\n",
            "[nltk_data] Downloading package stopwords to\n",
            "[nltk_data]     /Users/saggysimmba/nltk_data...\n",
            "[nltk_data]   Unzipping corpora/stopwords.zip.\n"
          ]
        },
        {
          "data": {
            "text/plain": [
              "True"
            ]
          },
          "execution_count": 9,
          "metadata": {},
          "output_type": "execute_result"
        }
      ],
      "source": [
        "# NLTK tokenizer AND stopword packages\n",
        "nltk.download('punkt_tab')\n",
        "nltk.download('stopwords')"
      ]
    },
    {
      "cell_type": "code",
      "execution_count": 10,
      "metadata": {
        "id": "T9YFdMZShOsf"
      },
      "outputs": [],
      "source": [
        "# Stemmer for PorterStemmer\n",
        "stemmer = PorterStemmer()\n",
        "# Removing punctuations\n",
        "remove_punctuation_map = dict((ord(char), None) for char in string.punctuation)"
      ]
    },
    {
      "cell_type": "code",
      "execution_count": 11,
      "metadata": {
        "id": "RGUhpcR_C0yb"
      },
      "outputs": [],
      "source": [
        "def clean_tokens(text):\n",
        "  \"\"\"Preprocess the text\"\"\"\n",
        "  lower_text = text.lower()  # Convert to lowercase\n",
        "  lower_text = re.sub(r'[^a-zA-Z ]', ' ', lower_text)  # Remove everything except letters and spaces\n",
        "  lower_text = re.sub(r'\\s+', ' ', lower_text).strip()  # Replace multiple spaces with a single space and trim\n",
        "  no_punctuation = lower_text.translate(remove_punctuation_map) # Lower the text for punctuations\n",
        "  tokens = nltk.word_tokenize(no_punctuation) # Tokenize the data without punctuation\n",
        "  filtered = [w for w in tokens if not w in stopwords.words(\"english\")] # Filtered data\n",
        "  stemmed = [] # Stem the data\n",
        "  for item in filtered:\n",
        "    stemmed.append(stemmer.stem(item)) # Perform data stemming\n",
        "  return lower_text"
      ]
    },
    {
      "cell_type": "code",
      "execution_count": 12,
      "metadata": {
        "id": "ik4Gcti-C51Z"
      },
      "outputs": [],
      "source": [
        "# Apply cleaning to relevant columns\n",
        "df_process['Genre'] = df_process['Genre'].apply(clean_tokens)\n",
        "df_process['Series_Title'] = df_process['Series_Title'].apply(clean_tokens)\n",
        "df_process['Overview'] = df_process['Overview'].apply(clean_tokens)\n",
        "df_process['Director'] = df_process['Director'].apply(clean_tokens)"
      ]
    },
    {
      "cell_type": "markdown",
      "metadata": {
        "id": "kVnyBG9ajtpL"
      },
      "source": [
        "- Now we will combine data from 'Genre', 'Series_Title', 'Overview' and 'Director' to get a combined knowledge of genre, series title and tags present in the dataset"
      ]
    },
    {
      "cell_type": "code",
      "execution_count": 13,
      "metadata": {
        "id": "Zgml7KwGO4vG"
      },
      "outputs": [],
      "source": [
        "# Create the tags\n",
        "df_process['tags'] = df_process['Series_Title'] + ' ' + df_process['Genre'] + ' ' + df_process['Overview'] + ' ' + df_process['Director']"
      ]
    },
    {
      "cell_type": "markdown",
      "metadata": {
        "id": "oGE0slqGlO_l"
      },
      "source": [
        "---\n",
        "<a name = Section5></a>\n",
        "# **5. Feature Engineering**\n",
        "---"
      ]
    },
    {
      "cell_type": "markdown",
      "metadata": {
        "id": "QKnqN5VPsc_E"
      },
      "source": [
        "- Here we will do a simple playaround with tfidf parameters. Lets see how that works out.\n",
        "- First we will fit the matrix to the entire dataset. Then we will fit the matrix to reduced parameters"
      ]
    },
    {
      "cell_type": "code",
      "execution_count": 14,
      "metadata": {
        "id": "zeqK-8Tsx91F"
      },
      "outputs": [],
      "source": [
        "# Initialize tfidf vectorizer to extract vocabulary\n",
        "tfidf1 = TfidfVectorizer()\n",
        "tfidf_matrix1 = tfidf1.fit_transform(df_process['tags'])  # Fit on combined genre data"
      ]
    },
    {
      "cell_type": "code",
      "execution_count": 15,
      "metadata": {
        "colab": {
          "base_uri": "https://localhost:8080/"
        },
        "id": "KTy-kfK7miEw",
        "outputId": "39d9a6a6-311c-4472-998c-471282424f21"
      },
      "outputs": [
        {
          "data": {
            "text/plain": [
              "7191"
            ]
          },
          "execution_count": 15,
          "metadata": {},
          "output_type": "execute_result"
        }
      ],
      "source": [
        "# Get vocabulary size\n",
        "vocab_size = len(tfidf1.vocabulary_)\n",
        "vocab_size"
      ]
    },
    {
      "cell_type": "markdown",
      "metadata": {
        "id": "mEB3PtHVl4M3"
      },
      "source": [
        "The vocabulary seems to be too high. Let's limit the number of minimum number of features"
      ]
    },
    {
      "cell_type": "code",
      "execution_count": 16,
      "metadata": {
        "colab": {
          "base_uri": "https://localhost:8080/"
        },
        "id": "p2sHFy-Xmz0S",
        "outputId": "0bc3eb5b-f9b2-4291-faef-ccef7da6c633"
      },
      "outputs": [
        {
          "data": {
            "text/plain": [
              "363"
            ]
          },
          "execution_count": 16,
          "metadata": {},
          "output_type": "execute_result"
        }
      ],
      "source": [
        "# Let's define the second vectorizer\n",
        "tfidf2 = TfidfVectorizer(min_df=10)\n",
        "tfidf_matrix2 = tfidf2.fit_transform(df_process['tags'])  # Fit on combined genre data\n",
        "vocab_size = len(tfidf2.vocabulary_)\n",
        "vocab_size"
      ]
    },
    {
      "cell_type": "markdown",
      "metadata": {
        "id": "fyjMhbOrtVax"
      },
      "source": [
        "- Here we can see that just by removing the number of words which occured in less than 10% of all documents (vocab_size), we were able to limit the no of features to just 363"
      ]
    },
    {
      "cell_type": "markdown",
      "metadata": {
        "id": "ijFHlQsEpCsZ"
      },
      "source": [
        "---\n",
        "<a name = Section6></a>\n",
        "# **6. Recommendation**\n",
        "---"
      ]
    },
    {
      "cell_type": "markdown",
      "metadata": {
        "id": "0wih5TMqvbWr"
      },
      "source": [
        "- Here we will test out recommendations from both the matrices and comment on the result"
      ]
    },
    {
      "cell_type": "code",
      "execution_count": 17,
      "metadata": {
        "id": "cHCgYMHupqbQ"
      },
      "outputs": [],
      "source": [
        "def recommend_from_text(query, vectorizer, df_movies, tfidf_matrix, n_recommendations=5):\n",
        "    \"\"\"\n",
        "    Recommend movies based on a text query, including similarity scores.\n",
        "\n",
        "    Parameters:\n",
        "    - query (str): User input describing the movie.\n",
        "    - vectorizer (TfidfVectorizer): Pre-trained TF-IDF vectorizer.\n",
        "    - df_movies (DataFrame): Movie dataset with 'Series_Title' column.\n",
        "    - tfidf_matrix (sparse matrix): The TF-IDF feature matrix of all movies.\n",
        "    - n_recommendations (int): Number of movies to return.\n",
        "\n",
        "    Returns:\n",
        "    - List of tuples with recommended movie titles and their similarity scores.\n",
        "    \"\"\"\n",
        "    # Step 1: Convert input text into TF-IDF features\n",
        "    query_tfidf = vectorizer.transform([query])  # Apply TF-IDF transformation\n",
        "\n",
        "    # Step 2: Compute cosine similarity between query and all movies in the dataset\n",
        "    similarity_scores = cosine_similarity(query_tfidf, tfidf_matrix)[0]\n",
        "\n",
        "    # Step 3: Get top N most similar movies (excluding the query itself)\n",
        "    top_movie_indices = similarity_scores.argsort()[::-1][:n_recommendations]\n",
        "\n",
        "    # Step 4: Retrieve recommended movie titles and their similarity scores\n",
        "    recommended_movies = [\n",
        "        (df_movies.iloc[i]['Series_Title'], similarity_scores[i]) for i in top_movie_indices\n",
        "    ]\n",
        "\n",
        "    return recommended_movies"
      ]
    },
    {
      "cell_type": "code",
      "execution_count": 18,
      "metadata": {
        "colab": {
          "base_uri": "https://localhost:8080/"
        },
        "id": "R-pnjAFyvnPf",
        "outputId": "22639ca9-c735-41ce-f798-6a33e2f9e3af"
      },
      "outputs": [
        {
          "data": {
            "text/plain": [
              "[('Amarcord', np.float64(0.27847261075557966)),\n",
              " ('Aliens', np.float64(0.13616430405418314)),\n",
              " ('The Man Who Would Be King', np.float64(0.13217272989380913)),\n",
              " ('Barton Fink', np.float64(0.1237384750664491)),\n",
              " ('Clerks', np.float64(0.11124411444944568))]"
            ]
          },
          "execution_count": 18,
          "metadata": {},
          "output_type": "execute_result"
        }
      ],
      "source": [
        "# Example Usage for first tfidf matrix\n",
        "recommend_from_text(\n",
        "    \"I love thrilling action movies set in space, with a comedic twist.\",\n",
        "    tfidf1,  # TF-IDF vectorizer\n",
        "    df,  # DataFrame with movies\n",
        "    tfidf_matrix1  # TF-IDF feature matrix\n",
        ")"
      ]
    },
    {
      "cell_type": "code",
      "execution_count": 19,
      "metadata": {
        "colab": {
          "base_uri": "https://localhost:8080/"
        },
        "id": "LpF7pshrv5_5",
        "outputId": "8d29bd0e-c3b7-4d3f-f7d5-114288db5785"
      },
      "outputs": [
        {
          "data": {
            "text/plain": [
              "[('Aliens', np.float64(0.3608801625928601)),\n",
              " ('Ghostbusters', np.float64(0.3264176120018433)),\n",
              " ('Amarcord', np.float64(0.3056737953920116)),\n",
              " ('Gattaca', np.float64(0.2928924835594347)),\n",
              " ('Blade Runner', np.float64(0.28458284071687384))]"
            ]
          },
          "execution_count": 19,
          "metadata": {},
          "output_type": "execute_result"
        }
      ],
      "source": [
        "# Example Usage for second tfidf matrix\n",
        "recommend_from_text(\n",
        "    \"I love thrilling action movies set in space, with a comedic twist.\",\n",
        "    tfidf2,  # TF-IDF vectorizer\n",
        "    df,  # DataFrame with movies\n",
        "    tfidf_matrix2  # TF-IDF feature matrix\n",
        ")"
      ]
    },
    {
      "cell_type": "markdown",
      "metadata": {
        "id": "u5zvnzTtwGuM"
      },
      "source": [
        "**Comments**\n",
        "- The reduced vector space size in the second recommendation system makes it more relevant, as we get results with higher similarity scores. It includes **Ghostbusters**, which aligns with **comedy+sci-fi** action theme. Additionally, **Gattaca** & **Blade Runner** add strong sci-fi/thriller elements to the second system.\n",
        "- **Aliens** is the only consistent correct recommendation among the two systems.\n",
        "- The first system's result is more focussed on **comedy**."
      ]
    },
    {
      "cell_type": "markdown",
      "metadata": {},
      "source": [
        "---\n",
        "<a name = Section7></a>\n",
        "# **7. Salary Expectations**\n",
        "---"
      ]
    },
    {
      "cell_type": "markdown",
      "metadata": {},
      "source": [
        "- My salary expectations are in the range of $1200 to $2000 per month"
      ]
    }
  ],
  "metadata": {
    "colab": {
      "provenance": []
    },
    "kernelspec": {
      "display_name": ".venv",
      "language": "python",
      "name": "python3"
    },
    "language_info": {
      "codemirror_mode": {
        "name": "ipython",
        "version": 3
      },
      "file_extension": ".py",
      "mimetype": "text/x-python",
      "name": "python",
      "nbconvert_exporter": "python",
      "pygments_lexer": "ipython3",
      "version": "3.13.2"
    }
  },
  "nbformat": 4,
  "nbformat_minor": 0
}
